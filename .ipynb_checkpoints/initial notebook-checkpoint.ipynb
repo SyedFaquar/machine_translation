{
 "cells": [
  {
   "cell_type": "code",
   "execution_count": 2,
   "id": "c31a0142",
   "metadata": {},
   "outputs": [],
   "source": [
    "#initial notebook\n",
    "import transformers\n"
   ]
  },
  {
   "cell_type": "code",
   "execution_count": 3,
   "id": "415f2d45",
   "metadata": {},
   "outputs": [
    {
     "name": "stdout",
     "output_type": "stream",
     "text": [
      "tensor([[0.7501, 0.5957, 0.9707],\n",
      "        [0.1538, 0.8344, 0.8149],\n",
      "        [0.6210, 0.8527, 0.1765],\n",
      "        [0.8446, 0.1445, 0.4781],\n",
      "        [0.8757, 0.9714, 0.8507]])\n"
     ]
    }
   ],
   "source": [
    "import torch\n",
    "x = torch.rand(5, 3)\n",
    "print(x)\n"
   ]
  },
  {
   "cell_type": "code",
   "execution_count": null,
   "id": "d2ece13c",
   "metadata": {},
   "outputs": [],
   "source": []
  }
 ],
 "metadata": {
  "kernelspec": {
   "display_name": "Python 3 (ipykernel)",
   "language": "python",
   "name": "python3"
  },
  "language_info": {
   "codemirror_mode": {
    "name": "ipython",
    "version": 3
   },
   "file_extension": ".py",
   "mimetype": "text/x-python",
   "name": "python",
   "nbconvert_exporter": "python",
   "pygments_lexer": "ipython3",
   "version": "3.9.18"
  }
 },
 "nbformat": 4,
 "nbformat_minor": 5
}
